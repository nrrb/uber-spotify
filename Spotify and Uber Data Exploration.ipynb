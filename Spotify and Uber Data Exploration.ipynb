{
 "cells": [
  {
   "cell_type": "markdown",
   "id": "b75399ca-fa7d-49d1-a3e5-dfa0512438e3",
   "metadata": {},
   "source": [
    "# 🎵 Spotify + 🚙 Uber Data Connection\n",
    "\n",
    "I have been a full-time Uber driver in Chicago for the last year, and during that time the music I play with Spotify has kept me going and entertained my passengers. When I found out that I could get [my listening history from Spotify](https://www.spotify.com/us/account/privacy/) for the past year, I wondered if I could discover what music I played for particular pickup or dropoff areas of the city, at particular times of day and days of the week.\n",
    "\n",
    "First step was to actually request the past year's listening history from Spotify, which I did at the link above. I had to wait 4 days to get mine. The streaming history items include four data fields. Here's an example:\n",
    "\n",
    "```\n",
    "  {\n",
    "    \"endTime\" : \"2023-09-12 23:59\",\n",
    "    \"artistName\" : \"Aphex Twin\",\n",
    "    \"trackName\" : \"Ageispolis\",\n",
    "    \"msPlayed\" : 96352\n",
    "  },\n",
    "```\n",
    "\n",
    "Second step was to get my Uber trip data. I had previously solved this by reverse engineering how the Uber Drivers page is built, simulating the browser data request in Postman, and then building a scraper around the sample Python code provided by Postman for the request. Here's an example of a trip:\n",
    "\n",
    "```\n",
    "{\n",
    "    \"uuid\": \"UUID_REDACTED\",\n",
    "    \"recognizedAt\": 1673809557,\n",
    "    \"activityTitle\": \"Comfort\",\n",
    "    \"formattedTotal\": \"$10.72\",\n",
    "    \"routing\": {\n",
    "        \"webviewUrl\": \"https://drivers.uber.com/earnings/trips/UUID_REDACTED\",\n",
    "        \"deeplinkUrl\": null\n",
    "    },\n",
    "    \"breakdownDetails\": {\n",
    "        \"formattedTip\": \"$1.00\",\n",
    "        \"formattedSurge\": null\n",
    "    },\n",
    "    \"tripMetaData\": {\n",
    "        \"formattedDuration\": \"15 min 56 sec\",\n",
    "        \"formattedDistance\": \"3.9 mi\",\n",
    "        \"pickupAddress\": \"N REDACTED, Chicago, IL 60614-1101, US\",\n",
    "        \"dropOffAddress\": \"W REDACTED, Chicago, IL 60612, US\",\n",
    "        \"mapUrl\": \"https://static-maps.uber.com/map?width=360&height=100&marker=REDACTED\"\n",
    "    },\n",
    "    \"type\": \"TRIP\",\n",
    "    \"status\": \"COMPLETED\"\n",
    "}\n",
    "```\n",
    "\n",
    "Doing some cleanup on this data, processing the `recognizedAt` data as a UNIX timestamp, removing unnecessary fields, I came up with records looking like:\n",
    "\n",
    "```\n",
    "{\n",
    "    \"uuid\": \"UUID_REDACTED\",\n",
    "    \"date\": \"2023-01-15\",\n",
    "    \"time\": \"13:05:57\",\n",
    "    \"timestamp\": 1673809557,\n",
    "    \"day\": \"Sunday\",\n",
    "    \"day_of_week\": 6,\n",
    "    \"sortable_day_of_week\": \"6 - Sunday\",\n",
    "    \"season\": \"Winter\",\n",
    "    \"type\": \"Comfort\",\n",
    "    \"earnings\": 10.72,\n",
    "    \"tip\": 1.0,\n",
    "    \"surge\": 0.0,\n",
    "    \"duration\": 956,\n",
    "    \"distance\": 3.9,\n",
    "    \"pickup_address\": \"N REDACTED, Chicago, IL 60614-1101, US\",\n",
    "    \"dropoff_address\": \"W REDACTED, Chicago, IL 60612, US\",\n",
    "    \"earnings-surge\": 10.72,\n",
    "    \"earnings/second\": 0.011213389121338914,\n",
    "    \"earnings/mile\": 2.7487179487179487,\n",
    "    \"pickup_zipcode\": \"60614\",\n",
    "    \"dropoff_zipcode\": \"60612\"\n",
    "}\n",
    "```"
   ]
  },
  {
   "cell_type": "code",
   "execution_count": 65,
   "id": "5cf2b806-24e2-4a78-b7b9-2e4842683a75",
   "metadata": {},
   "outputs": [
    {
     "name": "stdout",
     "output_type": "stream",
     "text": [
      "Retrieved 61710 songs from Spotify.\n",
      "Retrieved 3326 trips from Uber.\n"
     ]
    }
   ],
   "source": [
    "import glob\n",
    "from pprint import pprint\n",
    "import uuid\n",
    "import buckaroo\n",
    "import pandas as pd\n",
    "\n",
    "def get_spotify_history():\n",
    "    history_files = sorted(glob.glob('spotify/StreamingHistory_music_*.json'))\n",
    "    history_dfs = [pd.read_json(file) for file in history_files]\n",
    "    spotify_df = pd.concat(history_dfs, ignore_index=True)\n",
    "    spotify_df['endTime'] = pd.to_datetime(spotify_df['endTime'])\n",
    "    spotify_df['startTime'] = spotify_df['endTime'] - pd.to_timedelta(spotify_df['msPlayed'] / 1000, unit='s')\n",
    "    spotify_df['uuid'] = spotify_df.apply(lambda _: uuid.uuid4(), axis=1)\n",
    "    return spotify_df\n",
    "\n",
    "def get_uber_history():\n",
    "    trips_df = pd.read_json('uber/trips.json')\n",
    "    # Change to using the same terminology as in the Spotify data, for readability\n",
    "    trips_df.rename(columns={'timestamp': 'startTime'}, inplace=True)\n",
    "    trips_df['endTime'] = trips_df['startTime'] + pd.to_timedelta(trips_df['duration'], unit='s')\n",
    "    return trips_df\n",
    "\n",
    "spotify = get_spotify_history()\n",
    "uber = get_uber_history()\n",
    "\n",
    "# Filter the uber trip data to be only the trips that I have Spotify history for\n",
    "uber = uber[\n",
    "    (uber['startTime'] > spotify['startTime'].min()) & \n",
    "    (uber['endTime'] < spotify['endTime'].max())\n",
    "]\n",
    "\n",
    "print(f\"Retrieved {len(spotify)} songs from Spotify.\")\n",
    "print(f\"Retrieved {len(uber)} trips from Uber.\")"
   ]
  },
  {
   "cell_type": "code",
   "execution_count": 66,
   "id": "a38db7bc-4f0f-49c4-a9cf-641fccfe8e2b",
   "metadata": {},
   "outputs": [
    {
     "data": {
      "application/vnd.jupyter.widget-view+json": {
       "model_id": "693d8a82186a49deb949aafe6468c339",
       "version_major": 2,
       "version_minor": 0
      },
      "text/plain": [
       "BuckarooWidget(buckaroo_options={'sampled': ['random'], 'auto_clean': ['aggressive', 'conservative'], 'post_pr…"
      ]
     },
     "metadata": {},
     "output_type": "display_data"
    }
   ],
   "source": [
    "spotify"
   ]
  },
  {
   "cell_type": "code",
   "execution_count": 67,
   "id": "fc067dd2-b1a6-4238-8716-0e4b1a3ab5d0",
   "metadata": {},
   "outputs": [
    {
     "data": {
      "application/vnd.jupyter.widget-view+json": {
       "model_id": "e48446518f124447ae5ab9e7a19050cf",
       "version_major": 2,
       "version_minor": 0
      },
      "text/plain": [
       "BuckarooWidget(buckaroo_options={'sampled': ['random'], 'auto_clean': ['aggressive', 'conservative'], 'post_pr…"
      ]
     },
     "metadata": {},
     "output_type": "display_data"
    }
   ],
   "source": [
    "uber"
   ]
  },
  {
   "cell_type": "markdown",
   "id": "601a303e-15df-4a84-9a38-e6b37ba0e6f8",
   "metadata": {},
   "source": [
    "## Finding Songs per Trip\n",
    "\n",
    "\n",
    "Let's  see what this would look like. Taking the first Uber trip as a sample, I'll just brute force search through all songs and find all songs that started during this trip."
   ]
  },
  {
   "cell_type": "code",
   "execution_count": 68,
   "id": "15d02242-5677-4e31-87e2-5cabdb8ac103",
   "metadata": {},
   "outputs": [
    {
     "name": "stdout",
     "output_type": "stream",
     "text": [
      "Trip picked up at 2023-09-17 02:56:09, dropped off at 2023-09-17 04:11:09\n",
      "Trip time: 1.25 hours\n",
      "Earned $71.52\n"
     ]
    },
    {
     "data": {
      "application/vnd.jupyter.widget-view+json": {
       "model_id": "ea0ccb1a5a9643ee9edbecc0f693c334",
       "version_major": 2,
       "version_minor": 0
      },
      "text/plain": [
       "BuckarooWidget(buckaroo_options={'sampled': ['random'], 'auto_clean': ['aggressive', 'conservative'], 'post_pr…"
      ]
     },
     "metadata": {},
     "output_type": "display_data"
    }
   ],
   "source": [
    "sample_trip = uber.head(1)\n",
    "print(f\"Trip picked up at {sample_trip.iloc[0]['startTime']}, dropped off at {sample_trip.iloc[0]['endTime']}\")\n",
    "print(f\"Trip time: {sample_trip.iloc[0]['duration'] / 3600} hours\")\n",
    "print(f\"Earned ${sample_trip.iloc[0]['earnings']}\")\n",
    "\n",
    "filtered_songs = spotify[\n",
    "    (spotify['startTime'] >= sample_trip.iloc[0]['startTime']) & \n",
    "    (spotify['startTime'] < sample_trip.iloc[0]['endTime'])\n",
    "]\n",
    "\n",
    "filtered_songs"
   ]
  },
  {
   "cell_type": "markdown",
   "id": "ece813c4-a06d-448d-acc1-b4951f6db2d4",
   "metadata": {},
   "source": [
    "## Songs for Every Trip\n",
    "\n",
    "Even though I'm only doing this calculation once, I still like to do things efficiently. I don't want to just brute force the song search for every trip.\n",
    "\n",
    "For simplicity's sake, I'm going to assume that each spotify history item, a play of a particular song at a particular time, can correspond to at most one Uber trip. There are edge cases where a song started in one Uber ride and continued to be playing in another Uber ride, but we don't have to be exact here. I'll take the Spotify history item startTime and say if it occurs after an Uber trip startTime and before an Uber trip endTime, then it corresponds to that trip. \n",
    "\n",
    "There will certainly be Spotify songs that don't correspond to an Uber trip. And there will certainly be some Uber rides that have no Spotify history, because I can recall passengers who requested silence. There will be no overlapping Uber trips, I could only do one at a time.\n",
    "\n",
    "Given these preconditions, we can calculate a single `trip_uuid` that a song may have, or it will be None.\n",
    "\n",
    "Finding where the Spotify song play intervals overlap with the Uber trip intervals is an Interval Overlap problem and can be solved efficiently using a line sweep algorithm. \n",
    "\n",
    "I'll construct a single array of all the interval start and end times, along with what type of interval it represents ('spotify' or 'uber'), and the UUID of the record it represents. I'll sort this array by the start times. Then I'll step through this array, keeping track of what Uber interval is open, and annotate the corresponding song with that Uber trip UUID.  "
   ]
  },
  {
   "cell_type": "code",
   "execution_count": 69,
   "id": "f8aeb153-0009-422f-b59c-db7cf30ce486",
   "metadata": {},
   "outputs": [
    {
     "name": "stdout",
     "output_type": "stream",
     "text": [
      "[{'event_type': 'start',\n",
      "  'time': datetime.datetime(2023, 9, 12, 23, 57, 23, 648000),\n",
      "  'type': 'spotify',\n",
      "  'uuid': UUID('a62a9e19-5f90-477c-8463-03aa6ac72328')},\n",
      " {'event_type': 'end',\n",
      "  'time': datetime.datetime(2023, 9, 12, 23, 59),\n",
      "  'type': 'spotify',\n",
      "  'uuid': UUID('a62a9e19-5f90-477c-8463-03aa6ac72328')},\n",
      " {'event_type': 'start',\n",
      "  'time': datetime.datetime(2023, 9, 13, 23, 0, 12, 534000),\n",
      "  'type': 'spotify',\n",
      "  'uuid': UUID('bec69c6d-156c-4228-a465-099eea2c1eae')},\n",
      " {'event_type': 'end',\n",
      "  'time': datetime.datetime(2023, 9, 13, 23, 1),\n",
      "  'type': 'spotify',\n",
      "  'uuid': UUID('bec69c6d-156c-4228-a465-099eea2c1eae')}]\n"
     ]
    }
   ],
   "source": [
    "events = []\n",
    "for song in spotify.to_dict(orient='records'):\n",
    "    events.append({\n",
    "        'event_type': 'start',\n",
    "        'uuid': song['uuid'],\n",
    "        'type': 'spotify',\n",
    "        'time': song['startTime'].to_pydatetime()\n",
    "    })\n",
    "    events.append({\n",
    "        'event_type': 'end',\n",
    "        'uuid': song['uuid'],\n",
    "        'type': 'spotify',\n",
    "        'time': song['endTime'].to_pydatetime()\n",
    "    })\n",
    "\n",
    "for trip in uber.to_dict(orient='records'):\n",
    "    events.append({\n",
    "        'event_type': 'start',\n",
    "        'uuid': trip['uuid'],\n",
    "        'type': 'uber',\n",
    "        'time': trip['startTime'].to_pydatetime()\n",
    "    })\n",
    "    events.append({\n",
    "        'event_type': 'end',\n",
    "        'uuid': trip['uuid'],\n",
    "        'type': 'uber',\n",
    "        'time': trip['endTime'].to_pydatetime()\n",
    "    })\n",
    "\n",
    "events.sort(key=lambda v: (v['time'], v['event_type'] == 'end'))\n",
    "# What's this look like?\n",
    "pprint(events[:4])"
   ]
  },
  {
   "cell_type": "markdown",
   "id": "7655b785-ab7b-4c3e-9b4e-4968b4c43193",
   "metadata": {},
   "source": [
    "## 🪢 Uber Data Internal Overlap\n",
    "\n",
    "Looking quickly at this Uber data, I see that there is some overlap that makes no sense. I shouldn't be able to start a trip before ending another one, but the data suggests that's what's happening. Let's see the full scope of the interval overlap in the Uber data."
   ]
  },
  {
   "cell_type": "code",
   "execution_count": 70,
   "id": "8508a4ce-0b8c-4d32-b1f7-621bb169d584",
   "metadata": {},
   "outputs": [
    {
     "name": "stdout",
     "output_type": "stream",
     "text": [
      "There are 459 overlapping Uber trips.\n"
     ]
    }
   ],
   "source": [
    "trip_intervals = []\n",
    "for trip in uber.to_dict(orient='records'):\n",
    "    trip_intervals.append(('start', trip['startTime'], trip))\n",
    "    trip_intervals.append(('end', trip['endTime'], trip))\n",
    "trip_intervals = sorted(trip_intervals, key=lambda e: e[1])\n",
    "\n",
    "# Step 3: Traverse events and find overlaps\n",
    "active_intervals = []\n",
    "overlapping_intervals = []\n",
    "\n",
    "for event_type, time, interval in trip_intervals:\n",
    "    if event_type == 'start':\n",
    "        # Check for overlaps with currently active intervals\n",
    "        for active_interval in active_intervals:\n",
    "            if active_interval['endTime'] > interval['startTime']:\n",
    "                overlapping_intervals.append((active_interval, interval))\n",
    "        # Add the current interval to active intervals\n",
    "        active_intervals.append(interval)\n",
    "    elif event_type == 'end':\n",
    "        # Remove the interval from active intervals\n",
    "        active_intervals.remove(interval)\n",
    "\n",
    "print(f\"There are {len(overlapping_intervals)} overlapping Uber trips.\")    "
   ]
  },
  {
   "cell_type": "markdown",
   "id": "ebeefdaf-91e2-4a05-a6e9-80d1a36f205d",
   "metadata": {},
   "source": [
    "## RUHROH 🫗⛓️‍💥🚨\n",
    "\n",
    "I don't know how Uber trips could overlap, but that's what the data is showing. Given the picture of the data, \n",
    "here are updated requirements:\n",
    "\n",
    "* **Uber trips can overlap**; there may be multiple trips active at the same time.\n",
    "* **Songs can be associated with multiple Uber trips**; each song may overlap with zero or more trips.\n",
    "* **Songs and trips have start and end times**, and we need to find all Uber trips that overlap with each song.\n",
    "\n",
    "I need to implement the sweep line algorithm to account for overlapping Uber trips and determine for each song all the trips it overlaps with."
   ]
  },
  {
   "cell_type": "code",
   "execution_count": 71,
   "id": "e9921205-14b6-447e-bb3a-b46faa020365",
   "metadata": {},
   "outputs": [
    {
     "data": {
      "application/vnd.jupyter.widget-view+json": {
       "model_id": "2c42d955669c4885bcf14f105ccee8c2",
       "version_major": 2,
       "version_minor": 0
      },
      "text/plain": [
       "BuckarooWidget(buckaroo_options={'sampled': ['random'], 'auto_clean': ['aggressive', 'conservative'], 'post_pr…"
      ]
     },
     "metadata": {},
     "output_type": "display_data"
    }
   ],
   "source": [
    "active_songs = set()\n",
    "active_trips = set()\n",
    "song_overlaps = {song['uuid']: set() for song in spotify.to_dict(orient='records')}\n",
    "\n",
    "for event in events:\n",
    "    if event['event_type'] == 'start':\n",
    "        if event['type'] == 'spotify':\n",
    "            active_songs.add(event['uuid'])\n",
    "            for trip_uuid in active_trips:\n",
    "                song_overlaps[event['uuid']].add(trip_uuid)\n",
    "        elif event['type'] == 'uber':\n",
    "            # Add trip to active trips\n",
    "            active_trips.add(event['uuid'])\n",
    "            # Record overlaps with active songs\n",
    "            for song_uuid in active_songs:\n",
    "                song_overlaps[song_uuid].add(event['uuid'])\n",
    "    elif event['event_type'] == 'end':\n",
    "        if event['type'] == 'spotify':\n",
    "            # Remove song from active songs\n",
    "            active_songs.remove(event['uuid'])\n",
    "        elif event['type'] == 'uber':\n",
    "            # Remove trip from active trips\n",
    "            active_trips.remove(event['uuid'])\n",
    "\n",
    "spotify['trip_uuids'] = spotify['uuid'].map(song_overlaps)\n",
    "spotify['trip_count'] = spotify['trip_uuids'].map(lambda s: len(s))\n",
    "# Then let's throw out all songs that are not associated with a trip\n",
    "spotify = spotify[spotify['trip_uuids'] != set()]\n",
    "\n",
    "spotify"
   ]
  },
  {
   "cell_type": "code",
   "execution_count": 72,
   "id": "bad1a754-d7ef-43a2-8ed0-2bedca3a14b6",
   "metadata": {},
   "outputs": [
    {
     "name": "stdout",
     "output_type": "stream",
     "text": [
      "There are 3266 trips with songs associated.\n"
     ]
    }
   ],
   "source": [
    "trips_with_songs = set.union(*(v['trip_uuids'] for v in spotify.to_dict(orient='records')))\n",
    "print(f\"There are {len(trips_with_songs)} trips with songs associated.\")"
   ]
  },
  {
   "cell_type": "code",
   "execution_count": null,
   "id": "dad43aa6-a077-4106-af7b-ca2d4d23070a",
   "metadata": {},
   "outputs": [],
   "source": []
  }
 ],
 "metadata": {
  "kernelspec": {
   "display_name": "Python 3 (ipykernel)",
   "language": "python",
   "name": "python3"
  },
  "language_info": {
   "codemirror_mode": {
    "name": "ipython",
    "version": 3
   },
   "file_extension": ".py",
   "mimetype": "text/x-python",
   "name": "python",
   "nbconvert_exporter": "python",
   "pygments_lexer": "ipython3",
   "version": "3.11.7"
  }
 },
 "nbformat": 4,
 "nbformat_minor": 5
}
